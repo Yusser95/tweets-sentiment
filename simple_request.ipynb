{
 "cells": [
  {
   "cell_type": "code",
   "execution_count": 1,
   "metadata": {},
   "outputs": [],
   "source": [
    "import requests\n",
    "import json"
   ]
  },
  {
   "cell_type": "code",
   "execution_count": 18,
   "metadata": {},
   "outputs": [],
   "source": [
    "data = {\n",
    "     \"id\":99999999,\n",
    "     \"data\":[\n",
    "     {\n",
    "             \"ID\":8383838383,\n",
    "             \"amount\":0,\n",
    "             \"slotID\":36972026\n",
    "     },\n",
    "     {\n",
    "             \"ID\":2929292929,\n",
    "             \"amount\":0,\n",
    "             \"slotID\":36972026\n",
    "     },\n",
    "     {\n",
    "             \"ID\":4747474747,\n",
    "             \"amount\":0,\n",
    "             \"slotID\":36972026\n",
    "     }]\n",
    "}\n",
    "\n",
    "# save to file\n",
    "with open('sample.json', 'w') as outfile:\n",
    "    json.dump(data, outfile)"
   ]
  },
  {
   "cell_type": "code",
   "execution_count": 26,
   "metadata": {},
   "outputs": [
    {
     "name": "stdout",
     "output_type": "stream",
     "text": [
      "b'{\"success\": true}'\n",
      "True\n"
     ]
    }
   ],
   "source": [
    "\n",
    "url = 'http://127.0.0.1:5000/recommend'\n",
    "header={ \"Content-Type\": \"application/json\"}\n",
    "json_file = open('sample.json')\n",
    "r = requests.post(url, data=json_file, headers=header)\n",
    "print(r.content)\n",
    "data = r.json()\n",
    "print(data['success'])"
   ]
  },
  {
   "cell_type": "code",
   "execution_count": null,
   "metadata": {},
   "outputs": [],
   "source": []
  },
  {
   "cell_type": "code",
   "execution_count": null,
   "metadata": {},
   "outputs": [],
   "source": []
  },
  {
   "cell_type": "code",
   "execution_count": null,
   "metadata": {},
   "outputs": [],
   "source": []
  }
 ],
 "metadata": {
  "kernelspec": {
   "display_name": "Python 3",
   "language": "python",
   "name": "python3"
  },
  "language_info": {
   "codemirror_mode": {
    "name": "ipython",
    "version": 3
   },
   "file_extension": ".py",
   "mimetype": "text/x-python",
   "name": "python",
   "nbconvert_exporter": "python",
   "pygments_lexer": "ipython3",
   "version": "3.6.5"
  }
 },
 "nbformat": 4,
 "nbformat_minor": 2
}
